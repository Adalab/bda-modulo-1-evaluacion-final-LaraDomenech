{
 "cells": [
  {
   "cell_type": "markdown",
   "id": "0a1371b9",
   "metadata": {},
   "source": [
    "# Evaluación Final Módulo 1: TiendaOnline\n",
    "     Lara Domènech "
   ]
  },
  {
   "cell_type": "markdown",
   "id": "fb4a98dc",
   "metadata": {},
   "source": [
    "## Descripción\n",
    "La clase `TiendaOnline` debe tener los siguientes atributos:\n",
    "- `inventario`: lista de diccionarios con `nombre`, `precio`, `cantidad`.\n",
    "- `clientes`: diccionario para registrar clientes y su historial de compras.\n",
    "- `ventas_totales`: float para acumular las ventas totales de la tienda.\n",
    "\n",
    "### Métodos obligatorios\n",
    "1. **agregar_producto**(self, nombre, precio, cantidad)\n",
    "2. **ver_inventario**(self)\n",
    "3. **buscar_producto**(self, nombre)\n",
    "4. **actualizar_stock**(self, nombre, cantidad)\n",
    "5. **eliminar_producto**(self, nombre)\n",
    "6. **calcular_valor_inventario**(self)\n",
    "7. **realizar_compra**(self)\n",
    "\n",
    "### Métodos opcionales/extendidos\n",
    "8. **procesar_pago**(self)\n",
    "9. **agregar_cliente**(self, nombre, email)\n",
    "10. **ver_clientes**(self)\n",
    "11. **registrar_compra**(self, nombre_cliente, carrito)\n",
    "12. **ver_compras_cliente**(self, nombre_cliente)\n",
    "13. **calcular_ventas_totales**(self)\n",
    "\n",
    "Cada método se probará al final para confirmar que funciona correctamente."
   ]
  },
  {
   "cell_type": "markdown",
   "id": "441d24a8",
   "metadata": {},
   "source": [
    "## Definición de la clase:"
   ]
  },
  {
   "cell_type": "code",
   "execution_count": 34,
   "id": "5215e168",
   "metadata": {},
   "outputs": [],
   "source": [
    "# Esta es la clase con sus atributos propios:\n",
    "class TiendaOnline:\n",
    "\n",
    "    def __init__(self):\n",
    "        self.inventario = []\n",
    "        self.clientes = {}\n",
    "        self.ventas_totales = 0.0\n",
    "\n",
    "# La clase TiendaOnline tiene los siguientes métodos:\n",
    "#1. Este método agrega un producto al inventario o actualiza su cantidad si ya existe. \n",
    "   \n",
    "    def agregar_producto(self, nombre, precio, cantidad):\n",
    "        for producto in self.inventario:\n",
    "            if producto[\"nombre\"].lower() == nombre.lower():\n",
    "                producto[\"cantidad\"] += cantidad #Si ya existe, actualizamos la cantidad\n",
    "                return\n",
    "        nuevo_producto = {\"nombre\":nombre, \"precio\":precio, \"cantidad\":cantidad} \n",
    "        self.inventario.append(nuevo_producto) #Si no existe, lo creamos\n",
    "                \n",
    "# 2. Muestra el inventario de productos con sus detalles.\n",
    "                \n",
    "    def ver_inventario(self):\n",
    "        for producto in self.inventario:\n",
    "            print(f\"Nombre: {producto ['nombre']}, Precio: {producto ['precio']}€, Cantidad {producto ['cantidad']}\")\n",
    "        if not self.inventario:\n",
    "            print(\"El inventario está vacío.\")\n",
    "            return\n",
    "            \n",
    "# 3. Busca un producto en el inventario por nombre y muestra sus detalles si se encuentra.\n",
    "    \n",
    "    def buscar_producto(self, nombre):\n",
    "        for producto in self.inventario:\n",
    "            if producto[\"nombre\"].lower() == nombre.lower():\n",
    "                print(\"Producto encontrado:\")\n",
    "                print(f\"Nombre: {producto['nombre']}, Precio: {producto['precio']}€, Cantidad: {producto['cantidad']}\")\n",
    "                return\n",
    "        print(f\"El producto '{nombre}' no se encuentra en el inventario\")\n",
    "                \n",
    "# 4. Actualiza el stock de un producto en el inventario.\n",
    "    \n",
    "    def actualizar_stock(self, nombre, cantidad):\n",
    "        for producto in self.inventario:\n",
    "            if producto[\"nombre\"].lower() == nombre.lower():\n",
    "                producto[\"cantidad\"] += cantidad\n",
    "                print(f\"La cantidad de '{nombre}' se ha actualizado a {producto['cantidad']}\")\n",
    "                return\n",
    "        print(f\"El producto '{nombre}', no se ha encontardo en el inventario\")\n",
    "                \n",
    "# 5. Elimina un producto del inventario por nombre.\n",
    "    \n",
    "    def eliminar_producto(self, nombre):\n",
    "        for producto in self.inventario:\n",
    "            if producto[\"nombre\"].lower() == nombre.lower():\n",
    "                self.inventario.remove(producto)\n",
    "                print(f\"El producto '{nombre}' ha sido eliminado del inventario\")\n",
    "                return\n",
    "        print(f\"No se ha encontrado el producto '{nombre}' en el inventario para eliminarlo\")\n",
    "                \n",
    "# 6. Calcula y muestra el valor total del inventario.\n",
    "    \n",
    "    def calcular_valor_inventario(self):\n",
    "        valor_total = 0.0\n",
    "        for producto in self.inventario:\n",
    "            valor_total += producto[\"precio\"] * producto[\"cantidad\"]\n",
    "            \n",
    "        print(f\"Valor total del inventario: {valor_total:.2f}€\")\n",
    "        return valor_total\n",
    "        \n",
    "# 7. Permite a un cliente realizar una compra seleccionando productos del inventario. Debe interactuar con el cliente para seleccionar productos y calcular el costo total de la compra.\n",
    "    \n",
    "    def realizar_compra(self):\n",
    "    \n",
    "        self.ver_inventario()\n",
    "        carrito = {}\n",
    "        total_compra = 0.0\n",
    "        \n",
    "        #solicitar al cliente qué quiere comprar:\n",
    "        producto_comprar = input(\"¿Qué producto desea comprar? (Escribe 'salir' para terminar)\")\n",
    "    \n",
    "        while producto_comprar.lower().strip() != \"salir\":\n",
    "            for producto in self.inventario:\n",
    "                if producto[\"nombre\"].lower() == producto_comprar.lower().strip():\n",
    "                    try:\n",
    "                        cantidad_comprar = int(input(f\"Cuántas unidades de '{producto_comprar}' desea comprar?\"))\n",
    "                    except ValueError:\n",
    "                        print(\"Por favor, ingrese un número válido\")                        \n",
    "                    if cantidad_comprar > producto[\"cantidad\"]:\n",
    "                        print(f\"No hay suficiente stock de '{producto_comprar}'. Solo hay {producto[\"cantidad\"]} unidades en el inventario\")                     \n",
    "                    elif cantidad_comprar <= 0:\n",
    "                        print(\"La cantidad debe ser mayor que 0\")\n",
    "                    else:\n",
    "                        producto[\"cantidad\"] -= cantidad_comprar #para actualizar el inventario                       \n",
    "                    if producto_comprar in carrito:\n",
    "                        carrito[producto_comprar] += cantidad_comprar #para actualizar la cantidad del carrito\n",
    "                        print(f\"Ha actualizado la cantidad del producto '{producto_comprar}' a {cantidad_comprar} unidades en su carrito\")\n",
    "                    else:\n",
    "                        carrito.update({producto_comprar:cantidad_comprar}) #añade el producto:cantidad al carrito\n",
    "                        print(f\"Ha agregado {cantidad_comprar} unidades de '{producto_comprar}' a su carrito\")\n",
    "                                      \n",
    "            producto_comprar = input(\"Quieres añadir algo más al carrito? (Escribe 'salir' para terminar)\")\n",
    "            \n",
    "            if producto_comprar == \"salir\":\n",
    "                break\n",
    "        #Para calcular el precio total del carrito\n",
    "        for elemento in carrito:\n",
    "            for producto in self.inventario:\n",
    "                if elemento == producto[\"nombre\"]:\n",
    "                    total_compra += carrito[elemento]*producto[\"precio\"]\n",
    "                    break\n",
    "                \n",
    "        print(f\"\\n-------- Compra finalizada. El total de la compra realizada es de {total_compra}€----\")\n",
    "        return carrito   \n",
    "    \n",
    "# 8. Procesa el pago de una compra, calcula el cambio y muestra un mensaje de confirmación.\n",
    "\n",
    "    def procesar_pago(self):\n",
    "        \n",
    "        try:    \n",
    "            total_pagar = float(input(\"¿Cuál es el total a pagar de su compra?\"))\n",
    "            cantidad_entregada = float(input(\"Introduce la cantidad de dinero entregada\"))\n",
    "        except ValueError:\n",
    "            print(\"Error: Por favor ingresa valores numéricos válidos.\")\n",
    "    \n",
    "        if total_pagar > cantidad_entregada:\n",
    "            print(\"Error. La cantidad de dinero entregada es insuficiente\")\n",
    "            return\n",
    "            \n",
    "        cambio = cantidad_entregada - total_pagar\n",
    "        print(f\"Pago exitoso. Aquí tiene su cambio: {cambio}€\")\n",
    "\n",
    "        \n",
    "# 9.  Agrega un nuevo cliente al registro de clientes.\n",
    "\n",
    "    def agregar_clientes(self, nombre, email):\n",
    "        \n",
    "        if nombre not in self.clientes:\n",
    "            self.clientes[nombre] = {\"email\":email, \"compras\":[]}\n",
    "            print(f\" Cliente '{nombre}' agregado correctamente\")\n",
    "        else:\n",
    "            print(f\"El cliente '{nombre}' ya existe.\")   \n",
    "            \n",
    "# 10.  Muestra la lista de clientes registrados con sus nombres y correos electrónicos.\n",
    "\n",
    "    def ver_clientes(self):\n",
    "        \n",
    "        for nombre, info in self.clientes.items():\n",
    "            print(f\"{nombre} - email: {info['email']}\")\n",
    "       \n",
    "# 11.  Registra una compra para un cliente, actualiza las ventas totales y agrega la compra al historial del cliente. \n",
    "\n",
    "    def registrar_compra(self, nombre_cliente, carrito):\n",
    "        \n",
    "        total_compra = 0.0    \n",
    "        if nombre_cliente not in self.clientes:\n",
    "            print(f\"No se puede realizar esta acción, ya que el cliente '{nombre_cliente}' no se encuentra en el diccionario\") \n",
    "        \n",
    "        else:\n",
    "            print(carrito)\n",
    "            for producto, detalles in carrito.items():\n",
    "                total_compra += detalles[\"precio\"] * detalles[\"cantidad\"]\n",
    "                return total_compra\n",
    "            \n",
    "            \n",
    "        \n",
    "            self.clientes[nombre][\"compras\"] = [carrito]\n",
    "         "
   ]
  },
  {
   "cell_type": "markdown",
   "id": "ecbda432",
   "metadata": {},
   "source": [
    "## Creación del objeto y funcionalidad de los métodos:"
   ]
  },
  {
   "cell_type": "code",
   "execution_count": 35,
   "id": "ca112959",
   "metadata": {},
   "outputs": [],
   "source": [
    "# Aquí creamos nuestra tienda (Zara) de la clase TiendaOnline:\n",
    "\n",
    "shirka = TiendaOnline()"
   ]
  },
  {
   "cell_type": "code",
   "execution_count": 36,
   "id": "7012f134",
   "metadata": {},
   "outputs": [
    {
     "name": "stdout",
     "output_type": "stream",
     "text": [
      "Nombre: camisas, Precio: 15€, Cantidad 20\n",
      "Nombre: pantalones, Precio: 30€, Cantidad 100\n",
      "Nombre: calcetines, Precio: 5€, Cantidad 80\n",
      "Nombre: gorros, Precio: 10€, Cantidad 30\n",
      "Nombre: sujetadores, Precio: 25€, Cantidad 10\n"
     ]
    }
   ],
   "source": [
    "# 1. y 2. Probamos la funcionalidad de los métodos agregar_producto() y ver_inventario():\n",
    "\n",
    "shirka.agregar_producto(\"camisas\", 15, 20)\n",
    "shirka.agregar_producto(\"pantalones\", 30, 100)\n",
    "shirka.agregar_producto(\"calcetines\", 5, 80)\n",
    "shirka.agregar_producto(\"gorros\", 10, 30)\n",
    "shirka.agregar_producto(\"sujetadores\", 25, 10)\n",
    "shirka.ver_inventario()\n"
   ]
  },
  {
   "cell_type": "code",
   "execution_count": 37,
   "id": "337ededd",
   "metadata": {},
   "outputs": [
    {
     "name": "stdout",
     "output_type": "stream",
     "text": [
      "Producto encontrado:\n",
      "Nombre: camisas, Precio: 15€, Cantidad: 20\n",
      "El producto 'sudaderas' no se encuentra en el inventario\n"
     ]
    }
   ],
   "source": [
    "# 3. Método: buscar_producto():\n",
    "\n",
    "shirka.buscar_producto(\"camisas\")\n",
    "shirka.buscar_producto(\"sudaderas\")"
   ]
  },
  {
   "cell_type": "code",
   "execution_count": 38,
   "id": "be8aae97",
   "metadata": {},
   "outputs": [
    {
     "name": "stdout",
     "output_type": "stream",
     "text": [
      "La cantidad de 'camisas' se ha actualizado a 70\n",
      "El producto 'calzoncillos', no se ha encontardo en el inventario\n",
      "Nombre: camisas, Precio: 15€, Cantidad 70\n",
      "Nombre: pantalones, Precio: 30€, Cantidad 100\n",
      "Nombre: calcetines, Precio: 5€, Cantidad 80\n",
      "Nombre: gorros, Precio: 10€, Cantidad 30\n",
      "Nombre: sujetadores, Precio: 25€, Cantidad 10\n"
     ]
    }
   ],
   "source": [
    "# 4. Método: actualizar_stock():\n",
    "\n",
    "shirka.actualizar_stock(\"camisas\", 50)\n",
    "shirka.actualizar_stock(\"calzoncillos\", 15)\n",
    "shirka.ver_inventario()"
   ]
  },
  {
   "cell_type": "code",
   "execution_count": 39,
   "id": "ed1fec07",
   "metadata": {},
   "outputs": [
    {
     "name": "stdout",
     "output_type": "stream",
     "text": [
      "El producto 'pantalones' ha sido eliminado del inventario\n",
      "No se ha encontrado el producto 'guantes' en el inventario para eliminarlo\n",
      "Nombre: camisas, Precio: 15€, Cantidad 70\n",
      "Nombre: calcetines, Precio: 5€, Cantidad 80\n",
      "Nombre: gorros, Precio: 10€, Cantidad 30\n",
      "Nombre: sujetadores, Precio: 25€, Cantidad 10\n"
     ]
    }
   ],
   "source": [
    "# 5. Método: eliminar_producto():\n",
    "\n",
    "shirka.eliminar_producto(\"pantalones\")\n",
    "shirka.eliminar_producto(\"guantes\")\n",
    "shirka.ver_inventario()\n"
   ]
  },
  {
   "cell_type": "code",
   "execution_count": 40,
   "id": "d574a89f",
   "metadata": {},
   "outputs": [
    {
     "name": "stdout",
     "output_type": "stream",
     "text": [
      "Valor total del inventario: 2000.00€\n"
     ]
    },
    {
     "data": {
      "text/plain": [
       "2000.0"
      ]
     },
     "execution_count": 40,
     "metadata": {},
     "output_type": "execute_result"
    }
   ],
   "source": [
    "# 6. Método: calcular_valor_inventario():\n",
    "\n",
    "shirka.calcular_valor_inventario()"
   ]
  },
  {
   "cell_type": "code",
   "execution_count": 41,
   "id": "e6d7c478",
   "metadata": {},
   "outputs": [
    {
     "name": "stdout",
     "output_type": "stream",
     "text": [
      "Nombre: camisas, Precio: 15€, Cantidad 70\n",
      "Nombre: calcetines, Precio: 5€, Cantidad 80\n",
      "Nombre: gorros, Precio: 10€, Cantidad 30\n",
      "Nombre: sujetadores, Precio: 25€, Cantidad 10\n",
      "Ha agregado 3 unidades de 'sujetadores' a su carrito\n",
      "Ha agregado 1 unidades de 'gorros' a su carrito\n",
      "\n",
      "-------- Compra finalizada. El total de la compra realizada es de 85.0€----\n"
     ]
    },
    {
     "data": {
      "text/plain": [
       "{'sujetadores': 3, 'gorros': 1}"
      ]
     },
     "execution_count": 41,
     "metadata": {},
     "output_type": "execute_result"
    }
   ],
   "source": [
    "# 7. Método: realizar_compra():\n",
    "\n",
    "shirka.realizar_compra()"
   ]
  },
  {
   "cell_type": "code",
   "execution_count": 42,
   "id": "9068213d",
   "metadata": {},
   "outputs": [
    {
     "name": "stdout",
     "output_type": "stream",
     "text": [
      "Nombre: camisas, Precio: 15€, Cantidad 70\n",
      "Nombre: calcetines, Precio: 5€, Cantidad 80\n",
      "Nombre: gorros, Precio: 10€, Cantidad 29\n",
      "Nombre: sujetadores, Precio: 25€, Cantidad 7\n"
     ]
    }
   ],
   "source": [
    "# Para comprobar que me actualiza el inventario:\n",
    "\n",
    "shirka.ver_inventario()"
   ]
  },
  {
   "cell_type": "code",
   "execution_count": 43,
   "id": "84ba8f1e",
   "metadata": {},
   "outputs": [
    {
     "name": "stdout",
     "output_type": "stream",
     "text": [
      "Pago exitoso. Aquí tiene su cambio: 15.0€\n"
     ]
    }
   ],
   "source": [
    "# 8. Método: procesar_pago():\n",
    "\n",
    "shirka.procesar_pago()"
   ]
  },
  {
   "cell_type": "code",
   "execution_count": 44,
   "id": "60bccd55",
   "metadata": {},
   "outputs": [
    {
     "name": "stdout",
     "output_type": "stream",
     "text": [
      " Cliente 'Patricia Responso' agregado correctamente\n",
      " Cliente 'Sara Díaz' agregado correctamente\n"
     ]
    }
   ],
   "source": [
    "# 9. Método: agregar_clientes():\n",
    "\n",
    "shirka.agregar_clientes(\"Patricia Responso\", \"patricia.68@gmail.com\")\n",
    "shirka.agregar_clientes(\"Sara Díaz\", \"sra.2000@hotmail.es\")"
   ]
  },
  {
   "cell_type": "code",
   "execution_count": 45,
   "id": "35c0fe53",
   "metadata": {},
   "outputs": [
    {
     "name": "stdout",
     "output_type": "stream",
     "text": [
      "Patricia Responso - email: patricia.68@gmail.com\n",
      "Sara Díaz - email: sra.2000@hotmail.es\n"
     ]
    }
   ],
   "source": [
    "# 10. Método: ver_clientes():\n",
    "\n",
    "shirka.ver_clientes()"
   ]
  }
 ],
 "metadata": {
  "kernelspec": {
   "display_name": "base",
   "language": "python",
   "name": "python3"
  },
  "language_info": {
   "codemirror_mode": {
    "name": "ipython",
    "version": 3
   },
   "file_extension": ".py",
   "mimetype": "text/x-python",
   "name": "python",
   "nbconvert_exporter": "python",
   "pygments_lexer": "ipython3",
   "version": "3.12.7"
  }
 },
 "nbformat": 4,
 "nbformat_minor": 5
}
